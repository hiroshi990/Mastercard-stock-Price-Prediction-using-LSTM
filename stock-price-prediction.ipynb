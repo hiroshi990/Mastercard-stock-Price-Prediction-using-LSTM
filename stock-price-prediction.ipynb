{
 "cells": [
  {
   "cell_type": "code",
   "execution_count": 1,
   "id": "d4b52662",
   "metadata": {
    "_cell_guid": "b1076dfc-b9ad-4769-8c92-a6c4dae69d19",
    "_uuid": "8f2839f25d086af736a60e9eeb907d3b93b6e0e5",
    "execution": {
     "iopub.execute_input": "2024-07-04T15:33:47.705273Z",
     "iopub.status.busy": "2024-07-04T15:33:47.704830Z",
     "iopub.status.idle": "2024-07-04T15:33:48.804841Z",
     "shell.execute_reply": "2024-07-04T15:33:48.803229Z"
    },
    "papermill": {
     "duration": 1.115384,
     "end_time": "2024-07-04T15:33:48.807603",
     "exception": false,
     "start_time": "2024-07-04T15:33:47.692219",
     "status": "completed"
    },
    "tags": []
   },
   "outputs": [
    {
     "name": "stdout",
     "output_type": "stream",
     "text": [
      "/kaggle/input/stock-prices-of-mastercard-and-visa-2008-2024/MVR.csv\n"
     ]
    }
   ],
   "source": [
    "# This Python 3 environment comes with many helpful analytics libraries installed\n",
    "# It is defined by the kaggle/python Docker image: https://github.com/kaggle/docker-python\n",
    "# For example, here's several helpful packages to load\n",
    "\n",
    "import numpy as np # linear algebra\n",
    "import pandas as pd # data processing, CSV file I/O (e.g. pd.read_csv)\n",
    "\n",
    "# Input data files are available in the read-only \"../input/\" directory\n",
    "# For example, running this (by clicking run or pressing Shift+Enter) will list all files under the input directory\n",
    "\n",
    "import os\n",
    "for dirname, _, filenames in os.walk('/kaggle/input'):\n",
    "    for filename in filenames:\n",
    "        print(os.path.join(dirname, filename))\n",
    "\n",
    "# You can write up to 20GB to the current directory (/kaggle/working/) that gets preserved as output when you create a version using \"Save & Run All\" \n",
    "# You can also write temporary files to /kaggle/temp/, but they won't be saved outside of the current session"
   ]
  },
  {
   "cell_type": "code",
   "execution_count": 2,
   "id": "5d318c96",
   "metadata": {
    "execution": {
     "iopub.execute_input": "2024-07-04T15:33:48.831580Z",
     "iopub.status.busy": "2024-07-04T15:33:48.831030Z",
     "iopub.status.idle": "2024-07-04T15:33:50.582033Z",
     "shell.execute_reply": "2024-07-04T15:33:50.580714Z"
    },
    "papermill": {
     "duration": 1.765812,
     "end_time": "2024-07-04T15:33:50.584636",
     "exception": false,
     "start_time": "2024-07-04T15:33:48.818824",
     "status": "completed"
    },
    "tags": []
   },
   "outputs": [
    {
     "name": "stderr",
     "output_type": "stream",
     "text": [
      "/tmp/ipykernel_18/3279479596.py:6: MatplotlibDeprecationWarning: The seaborn styles shipped by Matplotlib are deprecated since 3.6, as they no longer correspond to the styles shipped by seaborn. However, they will remain available as 'seaborn-v0_8-<style>'. Alternatively, directly use the seaborn API instead.\n",
      "  plt.style.use(\"seaborn\")\n"
     ]
    }
   ],
   "source": [
    "import pandas as pd\n",
    "import numpy as np\n",
    "import matplotlib.pyplot as plt\n",
    "from datetime import datetime\n",
    "import seaborn as sns\n",
    "plt.style.use(\"seaborn\")"
   ]
  },
  {
   "cell_type": "code",
   "execution_count": 3,
   "id": "f35cbe86",
   "metadata": {
    "execution": {
     "iopub.execute_input": "2024-07-04T15:33:50.608316Z",
     "iopub.status.busy": "2024-07-04T15:33:50.607642Z",
     "iopub.status.idle": "2024-07-04T15:33:50.678761Z",
     "shell.execute_reply": "2024-07-04T15:33:50.677417Z"
    },
    "papermill": {
     "duration": 0.086197,
     "end_time": "2024-07-04T15:33:50.681678",
     "exception": false,
     "start_time": "2024-07-04T15:33:50.595481",
     "status": "completed"
    },
    "tags": []
   },
   "outputs": [
    {
     "data": {
      "text/html": [
       "<div>\n",
       "<style scoped>\n",
       "    .dataframe tbody tr th:only-of-type {\n",
       "        vertical-align: middle;\n",
       "    }\n",
       "\n",
       "    .dataframe tbody tr th {\n",
       "        vertical-align: top;\n",
       "    }\n",
       "\n",
       "    .dataframe thead th {\n",
       "        text-align: right;\n",
       "    }\n",
       "</style>\n",
       "<table border=\"1\" class=\"dataframe\">\n",
       "  <thead>\n",
       "    <tr style=\"text-align: right;\">\n",
       "      <th></th>\n",
       "      <th>Date</th>\n",
       "      <th>Open_M</th>\n",
       "      <th>High_M</th>\n",
       "      <th>Low_M</th>\n",
       "      <th>Close_M</th>\n",
       "      <th>Adj Close_M</th>\n",
       "      <th>Volume_M</th>\n",
       "      <th>Open_V</th>\n",
       "      <th>High_V</th>\n",
       "      <th>Low_V</th>\n",
       "      <th>Close_V</th>\n",
       "      <th>Adj Close_V</th>\n",
       "      <th>Volume_V</th>\n",
       "    </tr>\n",
       "  </thead>\n",
       "  <tbody>\n",
       "    <tr>\n",
       "      <th>4042</th>\n",
       "      <td>2024-06-24</td>\n",
       "      <td>454.929993</td>\n",
       "      <td>463.070007</td>\n",
       "      <td>454.929993</td>\n",
       "      <td>456.959991</td>\n",
       "      <td>456.959991</td>\n",
       "      <td>2597100</td>\n",
       "      <td>275.320007</td>\n",
       "      <td>280.390015</td>\n",
       "      <td>275.269989</td>\n",
       "      <td>276.299988</td>\n",
       "      <td>276.299988</td>\n",
       "      <td>24149600</td>\n",
       "    </tr>\n",
       "    <tr>\n",
       "      <th>4043</th>\n",
       "      <td>2024-06-25</td>\n",
       "      <td>458.480011</td>\n",
       "      <td>460.309998</td>\n",
       "      <td>453.799988</td>\n",
       "      <td>455.649994</td>\n",
       "      <td>455.649994</td>\n",
       "      <td>2529600</td>\n",
       "      <td>276.850006</td>\n",
       "      <td>277.929993</td>\n",
       "      <td>273.529999</td>\n",
       "      <td>273.529999</td>\n",
       "      <td>273.529999</td>\n",
       "      <td>19897700</td>\n",
       "    </tr>\n",
       "    <tr>\n",
       "      <th>4044</th>\n",
       "      <td>2024-06-26</td>\n",
       "      <td>452.750000</td>\n",
       "      <td>454.679993</td>\n",
       "      <td>451.390015</td>\n",
       "      <td>452.380005</td>\n",
       "      <td>452.380005</td>\n",
       "      <td>2451400</td>\n",
       "      <td>272.910004</td>\n",
       "      <td>274.459991</td>\n",
       "      <td>271.750000</td>\n",
       "      <td>273.600006</td>\n",
       "      <td>273.600006</td>\n",
       "      <td>12172000</td>\n",
       "    </tr>\n",
       "    <tr>\n",
       "      <th>4045</th>\n",
       "      <td>2024-06-27</td>\n",
       "      <td>448.570007</td>\n",
       "      <td>448.700012</td>\n",
       "      <td>442.000000</td>\n",
       "      <td>442.750000</td>\n",
       "      <td>442.750000</td>\n",
       "      <td>3313800</td>\n",
       "      <td>268.510010</td>\n",
       "      <td>270.589996</td>\n",
       "      <td>266.500000</td>\n",
       "      <td>266.589996</td>\n",
       "      <td>266.589996</td>\n",
       "      <td>10529100</td>\n",
       "    </tr>\n",
       "    <tr>\n",
       "      <th>4046</th>\n",
       "      <td>2024-06-28</td>\n",
       "      <td>444.640015</td>\n",
       "      <td>448.299988</td>\n",
       "      <td>438.720001</td>\n",
       "      <td>441.160004</td>\n",
       "      <td>441.160004</td>\n",
       "      <td>4105000</td>\n",
       "      <td>267.200012</td>\n",
       "      <td>268.600006</td>\n",
       "      <td>261.250000</td>\n",
       "      <td>262.470001</td>\n",
       "      <td>262.470001</td>\n",
       "      <td>13955100</td>\n",
       "    </tr>\n",
       "  </tbody>\n",
       "</table>\n",
       "</div>"
      ],
      "text/plain": [
       "            Date      Open_M      High_M       Low_M     Close_M  Adj Close_M  \\\n",
       "4042  2024-06-24  454.929993  463.070007  454.929993  456.959991   456.959991   \n",
       "4043  2024-06-25  458.480011  460.309998  453.799988  455.649994   455.649994   \n",
       "4044  2024-06-26  452.750000  454.679993  451.390015  452.380005   452.380005   \n",
       "4045  2024-06-27  448.570007  448.700012  442.000000  442.750000   442.750000   \n",
       "4046  2024-06-28  444.640015  448.299988  438.720001  441.160004   441.160004   \n",
       "\n",
       "      Volume_M      Open_V      High_V       Low_V     Close_V  Adj Close_V  \\\n",
       "4042   2597100  275.320007  280.390015  275.269989  276.299988   276.299988   \n",
       "4043   2529600  276.850006  277.929993  273.529999  273.529999   273.529999   \n",
       "4044   2451400  272.910004  274.459991  271.750000  273.600006   273.600006   \n",
       "4045   3313800  268.510010  270.589996  266.500000  266.589996   266.589996   \n",
       "4046   4105000  267.200012  268.600006  261.250000  262.470001   262.470001   \n",
       "\n",
       "      Volume_V  \n",
       "4042  24149600  \n",
       "4043  19897700  \n",
       "4044  12172000  \n",
       "4045  10529100  \n",
       "4046  13955100  "
      ]
     },
     "execution_count": 3,
     "metadata": {},
     "output_type": "execute_result"
    }
   ],
   "source": [
    "df=pd.read_csv(\"/kaggle/input/stock-prices-of-mastercard-and-visa-2008-2024/MVR.csv\")\n",
    "df.tail()"
   ]
  },
  {
   "cell_type": "markdown",
   "id": "ccc3288c",
   "metadata": {
    "papermill": {
     "duration": 0.011068,
     "end_time": "2024-07-04T15:33:50.704552",
     "exception": false,
     "start_time": "2024-07-04T15:33:50.693484",
     "status": "completed"
    },
    "tags": []
   },
   "source": [
    "For now we will only be using the mastercard data "
   ]
  },
  {
   "cell_type": "code",
   "execution_count": 4,
   "id": "672717ab",
   "metadata": {
    "execution": {
     "iopub.execute_input": "2024-07-04T15:33:50.728566Z",
     "iopub.status.busy": "2024-07-04T15:33:50.728129Z",
     "iopub.status.idle": "2024-07-04T15:33:50.772806Z",
     "shell.execute_reply": "2024-07-04T15:33:50.771475Z"
    },
    "papermill": {
     "duration": 0.060303,
     "end_time": "2024-07-04T15:33:50.775967",
     "exception": false,
     "start_time": "2024-07-04T15:33:50.715664",
     "status": "completed"
    },
    "tags": []
   },
   "outputs": [
    {
     "name": "stdout",
     "output_type": "stream",
     "text": [
      "<class 'pandas.core.frame.DataFrame'>\n",
      "RangeIndex: 4047 entries, 0 to 4046\n",
      "Data columns (total 6 columns):\n",
      " #   Column       Non-Null Count  Dtype  \n",
      "---  ------       --------------  -----  \n",
      " 0   Date         4047 non-null   object \n",
      " 1   Open_M       4047 non-null   float64\n",
      " 2   High_M       4047 non-null   float64\n",
      " 3   Low_M        4047 non-null   float64\n",
      " 4   Close_M      4047 non-null   float64\n",
      " 5   Adj Close_M  4047 non-null   float64\n",
      "dtypes: float64(5), object(1)\n",
      "memory usage: 189.8+ KB\n"
     ]
    }
   ],
   "source": [
    "df=df.iloc[:,:6]\n",
    "df.info()\n",
    "#converting the date column to datetime\n",
    "df[\"Date\"]=pd.to_datetime(df[\"Date\"])\n",
    "df[\"Day\"]=df[\"Date\"].dt.day\n",
    "df[\"Month\"]=df[\"Date\"].dt.month\n",
    "df[\"Year\"]=df[\"Date\"].dt.year\n",
    "df.set_index(\"Date\",drop=True,inplace =True)"
   ]
  },
  {
   "cell_type": "code",
   "execution_count": 5,
   "id": "8cb2b3f2",
   "metadata": {
    "execution": {
     "iopub.execute_input": "2024-07-04T15:33:50.801641Z",
     "iopub.status.busy": "2024-07-04T15:33:50.800684Z",
     "iopub.status.idle": "2024-07-04T15:33:50.820966Z",
     "shell.execute_reply": "2024-07-04T15:33:50.819657Z"
    },
    "papermill": {
     "duration": 0.036196,
     "end_time": "2024-07-04T15:33:50.823770",
     "exception": false,
     "start_time": "2024-07-04T15:33:50.787574",
     "status": "completed"
    },
    "tags": []
   },
   "outputs": [
    {
     "data": {
      "text/html": [
       "<div>\n",
       "<style scoped>\n",
       "    .dataframe tbody tr th:only-of-type {\n",
       "        vertical-align: middle;\n",
       "    }\n",
       "\n",
       "    .dataframe tbody tr th {\n",
       "        vertical-align: top;\n",
       "    }\n",
       "\n",
       "    .dataframe thead th {\n",
       "        text-align: right;\n",
       "    }\n",
       "</style>\n",
       "<table border=\"1\" class=\"dataframe\">\n",
       "  <thead>\n",
       "    <tr style=\"text-align: right;\">\n",
       "      <th></th>\n",
       "      <th>Open_M</th>\n",
       "      <th>High_M</th>\n",
       "      <th>Low_M</th>\n",
       "      <th>Close_M</th>\n",
       "      <th>Adj Close_M</th>\n",
       "      <th>Day</th>\n",
       "      <th>Month</th>\n",
       "      <th>Year</th>\n",
       "    </tr>\n",
       "    <tr>\n",
       "      <th>Date</th>\n",
       "      <th></th>\n",
       "      <th></th>\n",
       "      <th></th>\n",
       "      <th></th>\n",
       "      <th></th>\n",
       "      <th></th>\n",
       "      <th></th>\n",
       "      <th></th>\n",
       "    </tr>\n",
       "  </thead>\n",
       "  <tbody>\n",
       "    <tr>\n",
       "      <th>2008-06-02</th>\n",
       "      <td>30.926001</td>\n",
       "      <td>32.000000</td>\n",
       "      <td>30.257000</td>\n",
       "      <td>32.000000</td>\n",
       "      <td>29.529486</td>\n",
       "      <td>2</td>\n",
       "      <td>6</td>\n",
       "      <td>2008</td>\n",
       "    </tr>\n",
       "    <tr>\n",
       "      <th>2008-06-03</th>\n",
       "      <td>31.386999</td>\n",
       "      <td>31.399000</td>\n",
       "      <td>30.235001</td>\n",
       "      <td>30.740000</td>\n",
       "      <td>28.366755</td>\n",
       "      <td>3</td>\n",
       "      <td>6</td>\n",
       "      <td>2008</td>\n",
       "    </tr>\n",
       "    <tr>\n",
       "      <th>2008-06-04</th>\n",
       "      <td>30.745001</td>\n",
       "      <td>30.959999</td>\n",
       "      <td>29.454000</td>\n",
       "      <td>29.740000</td>\n",
       "      <td>27.443956</td>\n",
       "      <td>4</td>\n",
       "      <td>6</td>\n",
       "      <td>2008</td>\n",
       "    </tr>\n",
       "    <tr>\n",
       "      <th>2008-06-05</th>\n",
       "      <td>29.951000</td>\n",
       "      <td>30.615999</td>\n",
       "      <td>29.544001</td>\n",
       "      <td>30.615999</td>\n",
       "      <td>28.252338</td>\n",
       "      <td>5</td>\n",
       "      <td>6</td>\n",
       "      <td>2008</td>\n",
       "    </tr>\n",
       "    <tr>\n",
       "      <th>2008-06-06</th>\n",
       "      <td>30.228001</td>\n",
       "      <td>30.242001</td>\n",
       "      <td>29.481001</td>\n",
       "      <td>29.573000</td>\n",
       "      <td>27.289856</td>\n",
       "      <td>6</td>\n",
       "      <td>6</td>\n",
       "      <td>2008</td>\n",
       "    </tr>\n",
       "    <tr>\n",
       "      <th>...</th>\n",
       "      <td>...</td>\n",
       "      <td>...</td>\n",
       "      <td>...</td>\n",
       "      <td>...</td>\n",
       "      <td>...</td>\n",
       "      <td>...</td>\n",
       "      <td>...</td>\n",
       "      <td>...</td>\n",
       "    </tr>\n",
       "    <tr>\n",
       "      <th>2024-06-24</th>\n",
       "      <td>454.929993</td>\n",
       "      <td>463.070007</td>\n",
       "      <td>454.929993</td>\n",
       "      <td>456.959991</td>\n",
       "      <td>456.959991</td>\n",
       "      <td>24</td>\n",
       "      <td>6</td>\n",
       "      <td>2024</td>\n",
       "    </tr>\n",
       "    <tr>\n",
       "      <th>2024-06-25</th>\n",
       "      <td>458.480011</td>\n",
       "      <td>460.309998</td>\n",
       "      <td>453.799988</td>\n",
       "      <td>455.649994</td>\n",
       "      <td>455.649994</td>\n",
       "      <td>25</td>\n",
       "      <td>6</td>\n",
       "      <td>2024</td>\n",
       "    </tr>\n",
       "    <tr>\n",
       "      <th>2024-06-26</th>\n",
       "      <td>452.750000</td>\n",
       "      <td>454.679993</td>\n",
       "      <td>451.390015</td>\n",
       "      <td>452.380005</td>\n",
       "      <td>452.380005</td>\n",
       "      <td>26</td>\n",
       "      <td>6</td>\n",
       "      <td>2024</td>\n",
       "    </tr>\n",
       "    <tr>\n",
       "      <th>2024-06-27</th>\n",
       "      <td>448.570007</td>\n",
       "      <td>448.700012</td>\n",
       "      <td>442.000000</td>\n",
       "      <td>442.750000</td>\n",
       "      <td>442.750000</td>\n",
       "      <td>27</td>\n",
       "      <td>6</td>\n",
       "      <td>2024</td>\n",
       "    </tr>\n",
       "    <tr>\n",
       "      <th>2024-06-28</th>\n",
       "      <td>444.640015</td>\n",
       "      <td>448.299988</td>\n",
       "      <td>438.720001</td>\n",
       "      <td>441.160004</td>\n",
       "      <td>441.160004</td>\n",
       "      <td>28</td>\n",
       "      <td>6</td>\n",
       "      <td>2024</td>\n",
       "    </tr>\n",
       "  </tbody>\n",
       "</table>\n",
       "<p>4047 rows × 8 columns</p>\n",
       "</div>"
      ],
      "text/plain": [
       "                Open_M      High_M       Low_M     Close_M  Adj Close_M  Day  \\\n",
       "Date                                                                           \n",
       "2008-06-02   30.926001   32.000000   30.257000   32.000000    29.529486    2   \n",
       "2008-06-03   31.386999   31.399000   30.235001   30.740000    28.366755    3   \n",
       "2008-06-04   30.745001   30.959999   29.454000   29.740000    27.443956    4   \n",
       "2008-06-05   29.951000   30.615999   29.544001   30.615999    28.252338    5   \n",
       "2008-06-06   30.228001   30.242001   29.481001   29.573000    27.289856    6   \n",
       "...                ...         ...         ...         ...          ...  ...   \n",
       "2024-06-24  454.929993  463.070007  454.929993  456.959991   456.959991   24   \n",
       "2024-06-25  458.480011  460.309998  453.799988  455.649994   455.649994   25   \n",
       "2024-06-26  452.750000  454.679993  451.390015  452.380005   452.380005   26   \n",
       "2024-06-27  448.570007  448.700012  442.000000  442.750000   442.750000   27   \n",
       "2024-06-28  444.640015  448.299988  438.720001  441.160004   441.160004   28   \n",
       "\n",
       "            Month  Year  \n",
       "Date                     \n",
       "2008-06-02      6  2008  \n",
       "2008-06-03      6  2008  \n",
       "2008-06-04      6  2008  \n",
       "2008-06-05      6  2008  \n",
       "2008-06-06      6  2008  \n",
       "...           ...   ...  \n",
       "2024-06-24      6  2024  \n",
       "2024-06-25      6  2024  \n",
       "2024-06-26      6  2024  \n",
       "2024-06-27      6  2024  \n",
       "2024-06-28      6  2024  \n",
       "\n",
       "[4047 rows x 8 columns]"
      ]
     },
     "execution_count": 5,
     "metadata": {},
     "output_type": "execute_result"
    }
   ],
   "source": [
    "df"
   ]
  },
  {
   "cell_type": "code",
   "execution_count": 6,
   "id": "d1ecdb7b",
   "metadata": {
    "execution": {
     "iopub.execute_input": "2024-07-04T15:33:50.852373Z",
     "iopub.status.busy": "2024-07-04T15:33:50.851974Z",
     "iopub.status.idle": "2024-07-04T15:33:50.866563Z",
     "shell.execute_reply": "2024-07-04T15:33:50.865189Z"
    },
    "papermill": {
     "duration": 0.030718,
     "end_time": "2024-07-04T15:33:50.869395",
     "exception": false,
     "start_time": "2024-07-04T15:33:50.838677",
     "status": "completed"
    },
    "tags": []
   },
   "outputs": [
    {
     "name": "stdout",
     "output_type": "stream",
     "text": [
      "<class 'pandas.core.frame.DataFrame'>\n",
      "DatetimeIndex: 4047 entries, 2008-06-02 to 2024-06-28\n",
      "Data columns (total 8 columns):\n",
      " #   Column       Non-Null Count  Dtype  \n",
      "---  ------       --------------  -----  \n",
      " 0   Open_M       4047 non-null   float64\n",
      " 1   High_M       4047 non-null   float64\n",
      " 2   Low_M        4047 non-null   float64\n",
      " 3   Close_M      4047 non-null   float64\n",
      " 4   Adj Close_M  4047 non-null   float64\n",
      " 5   Day          4047 non-null   int32  \n",
      " 6   Month        4047 non-null   int32  \n",
      " 7   Year         4047 non-null   int32  \n",
      "dtypes: float64(5), int32(3)\n",
      "memory usage: 237.1 KB\n"
     ]
    }
   ],
   "source": [
    "df.info()"
   ]
  },
  {
   "cell_type": "code",
   "execution_count": 7,
   "id": "aea15345",
   "metadata": {
    "execution": {
     "iopub.execute_input": "2024-07-04T15:33:50.895196Z",
     "iopub.status.busy": "2024-07-04T15:33:50.894714Z",
     "iopub.status.idle": "2024-07-04T15:33:50.912804Z",
     "shell.execute_reply": "2024-07-04T15:33:50.911523Z"
    },
    "papermill": {
     "duration": 0.034557,
     "end_time": "2024-07-04T15:33:50.915857",
     "exception": false,
     "start_time": "2024-07-04T15:33:50.881300",
     "status": "completed"
    },
    "tags": []
   },
   "outputs": [
    {
     "data": {
      "text/html": [
       "<div>\n",
       "<style scoped>\n",
       "    .dataframe tbody tr th:only-of-type {\n",
       "        vertical-align: middle;\n",
       "    }\n",
       "\n",
       "    .dataframe tbody tr th {\n",
       "        vertical-align: top;\n",
       "    }\n",
       "\n",
       "    .dataframe thead th {\n",
       "        text-align: right;\n",
       "    }\n",
       "</style>\n",
       "<table border=\"1\" class=\"dataframe\">\n",
       "  <thead>\n",
       "    <tr style=\"text-align: right;\">\n",
       "      <th></th>\n",
       "      <th>Open_M</th>\n",
       "      <th>High_M</th>\n",
       "      <th>Low_M</th>\n",
       "      <th>Close_M</th>\n",
       "      <th>Adj Close_M</th>\n",
       "      <th>Day</th>\n",
       "      <th>Month</th>\n",
       "      <th>Year</th>\n",
       "    </tr>\n",
       "    <tr>\n",
       "      <th>Date</th>\n",
       "      <th></th>\n",
       "      <th></th>\n",
       "      <th></th>\n",
       "      <th></th>\n",
       "      <th></th>\n",
       "      <th></th>\n",
       "      <th></th>\n",
       "      <th></th>\n",
       "    </tr>\n",
       "  </thead>\n",
       "  <tbody>\n",
       "    <tr>\n",
       "      <th>2008-06-02</th>\n",
       "      <td>30.926001</td>\n",
       "      <td>32.000000</td>\n",
       "      <td>30.257000</td>\n",
       "      <td>32.000000</td>\n",
       "      <td>29.529486</td>\n",
       "      <td>2</td>\n",
       "      <td>6</td>\n",
       "      <td>2008</td>\n",
       "    </tr>\n",
       "    <tr>\n",
       "      <th>2008-06-03</th>\n",
       "      <td>31.386999</td>\n",
       "      <td>31.399000</td>\n",
       "      <td>30.235001</td>\n",
       "      <td>30.740000</td>\n",
       "      <td>28.366755</td>\n",
       "      <td>3</td>\n",
       "      <td>6</td>\n",
       "      <td>2008</td>\n",
       "    </tr>\n",
       "    <tr>\n",
       "      <th>2008-06-04</th>\n",
       "      <td>30.745001</td>\n",
       "      <td>30.959999</td>\n",
       "      <td>29.454000</td>\n",
       "      <td>29.740000</td>\n",
       "      <td>27.443956</td>\n",
       "      <td>4</td>\n",
       "      <td>6</td>\n",
       "      <td>2008</td>\n",
       "    </tr>\n",
       "    <tr>\n",
       "      <th>2008-06-05</th>\n",
       "      <td>29.951000</td>\n",
       "      <td>30.615999</td>\n",
       "      <td>29.544001</td>\n",
       "      <td>30.615999</td>\n",
       "      <td>28.252338</td>\n",
       "      <td>5</td>\n",
       "      <td>6</td>\n",
       "      <td>2008</td>\n",
       "    </tr>\n",
       "    <tr>\n",
       "      <th>2008-06-06</th>\n",
       "      <td>30.228001</td>\n",
       "      <td>30.242001</td>\n",
       "      <td>29.481001</td>\n",
       "      <td>29.573000</td>\n",
       "      <td>27.289856</td>\n",
       "      <td>6</td>\n",
       "      <td>6</td>\n",
       "      <td>2008</td>\n",
       "    </tr>\n",
       "  </tbody>\n",
       "</table>\n",
       "</div>"
      ],
      "text/plain": [
       "               Open_M     High_M      Low_M    Close_M  Adj Close_M  Day  \\\n",
       "Date                                                                       \n",
       "2008-06-02  30.926001  32.000000  30.257000  32.000000    29.529486    2   \n",
       "2008-06-03  31.386999  31.399000  30.235001  30.740000    28.366755    3   \n",
       "2008-06-04  30.745001  30.959999  29.454000  29.740000    27.443956    4   \n",
       "2008-06-05  29.951000  30.615999  29.544001  30.615999    28.252338    5   \n",
       "2008-06-06  30.228001  30.242001  29.481001  29.573000    27.289856    6   \n",
       "\n",
       "            Month  Year  \n",
       "Date                     \n",
       "2008-06-02      6  2008  \n",
       "2008-06-03      6  2008  \n",
       "2008-06-04      6  2008  \n",
       "2008-06-05      6  2008  \n",
       "2008-06-06      6  2008  "
      ]
     },
     "execution_count": 7,
     "metadata": {},
     "output_type": "execute_result"
    }
   ],
   "source": [
    "df.head()"
   ]
  },
  {
   "cell_type": "markdown",
   "id": "b751e05e",
   "metadata": {
    "papermill": {
     "duration": 0.012271,
     "end_time": "2024-07-04T15:33:50.940248",
     "exception": false,
     "start_time": "2024-07-04T15:33:50.927977",
     "status": "completed"
    },
    "tags": []
   },
   "source": [
    "# Plotting the moving average for 100 and 200 days for closing price "
   ]
  },
  {
   "cell_type": "code",
   "execution_count": 8,
   "id": "8d0a9239",
   "metadata": {
    "execution": {
     "iopub.execute_input": "2024-07-04T15:33:50.966427Z",
     "iopub.status.busy": "2024-07-04T15:33:50.966030Z",
     "iopub.status.idle": "2024-07-04T15:33:51.756339Z",
     "shell.execute_reply": "2024-07-04T15:33:51.755009Z"
    },
    "papermill": {
     "duration": 0.806716,
     "end_time": "2024-07-04T15:33:51.759114",
     "exception": false,
     "start_time": "2024-07-04T15:33:50.952398",
     "status": "completed"
    },
    "tags": []
   },
   "outputs": [
    {
     "data": {
      "image/png": "[encoded data removed]",
      "text/plain": [
       "<Figure size 1200x600 with 1 Axes>"
      ]
     },
     "metadata": {},
     "output_type": "display_data"
    }
   ],
   "source": [
    "df[\"Close_M\"].plot(figsize=(12,6))\n",
    "MA_100=df[\"Close_M\"].rolling(100).mean()\n",
    "MA_200=df[\"Close_M\"].rolling(200).mean()\n",
    "\n",
    "MA_100.plot(c=\"green\")\n",
    "MA_200.plot(c=\"red\")\n",
    "plt.title(\"MA for 100 and 200 days\")\n",
    "plt.legend([\"Closing price\",\"100 days MA\",\"200 days MA\"],loc=\"best\")\n",
    "plt.show()"
   ]
  },
  {
   "cell_type": "code",
   "execution_count": 9,
   "id": "9f789998",
   "metadata": {
    "execution": {
     "iopub.execute_input": "2024-07-04T15:33:51.788195Z",
     "iopub.status.busy": "2024-07-04T15:33:51.787758Z",
     "iopub.status.idle": "2024-07-04T15:33:51.804852Z",
     "shell.execute_reply": "2024-07-04T15:33:51.803674Z"
    },
    "papermill": {
     "duration": 0.034674,
     "end_time": "2024-07-04T15:33:51.807672",
     "exception": false,
     "start_time": "2024-07-04T15:33:51.772998",
     "status": "completed"
    },
    "tags": []
   },
   "outputs": [
    {
     "data": {
      "text/html": [
       "<div>\n",
       "<style scoped>\n",
       "    .dataframe tbody tr th:only-of-type {\n",
       "        vertical-align: middle;\n",
       "    }\n",
       "\n",
       "    .dataframe tbody tr th {\n",
       "        vertical-align: top;\n",
       "    }\n",
       "\n",
       "    .dataframe thead th {\n",
       "        text-align: right;\n",
       "    }\n",
       "</style>\n",
       "<table border=\"1\" class=\"dataframe\">\n",
       "  <thead>\n",
       "    <tr style=\"text-align: right;\">\n",
       "      <th></th>\n",
       "      <th>Open_M</th>\n",
       "      <th>High_M</th>\n",
       "      <th>Low_M</th>\n",
       "      <th>Close_M</th>\n",
       "      <th>Adj Close_M</th>\n",
       "      <th>Day</th>\n",
       "      <th>Month</th>\n",
       "      <th>Year</th>\n",
       "    </tr>\n",
       "    <tr>\n",
       "      <th>Date</th>\n",
       "      <th></th>\n",
       "      <th></th>\n",
       "      <th></th>\n",
       "      <th></th>\n",
       "      <th></th>\n",
       "      <th></th>\n",
       "      <th></th>\n",
       "      <th></th>\n",
       "    </tr>\n",
       "  </thead>\n",
       "  <tbody>\n",
       "    <tr>\n",
       "      <th>2008-06-02</th>\n",
       "      <td>30.926001</td>\n",
       "      <td>32.000000</td>\n",
       "      <td>30.257000</td>\n",
       "      <td>32.000000</td>\n",
       "      <td>29.529486</td>\n",
       "      <td>2</td>\n",
       "      <td>6</td>\n",
       "      <td>2008</td>\n",
       "    </tr>\n",
       "    <tr>\n",
       "      <th>2008-06-03</th>\n",
       "      <td>31.386999</td>\n",
       "      <td>31.399000</td>\n",
       "      <td>30.235001</td>\n",
       "      <td>30.740000</td>\n",
       "      <td>28.366755</td>\n",
       "      <td>3</td>\n",
       "      <td>6</td>\n",
       "      <td>2008</td>\n",
       "    </tr>\n",
       "    <tr>\n",
       "      <th>2008-06-04</th>\n",
       "      <td>30.745001</td>\n",
       "      <td>30.959999</td>\n",
       "      <td>29.454000</td>\n",
       "      <td>29.740000</td>\n",
       "      <td>27.443956</td>\n",
       "      <td>4</td>\n",
       "      <td>6</td>\n",
       "      <td>2008</td>\n",
       "    </tr>\n",
       "    <tr>\n",
       "      <th>2008-06-05</th>\n",
       "      <td>29.951000</td>\n",
       "      <td>30.615999</td>\n",
       "      <td>29.544001</td>\n",
       "      <td>30.615999</td>\n",
       "      <td>28.252338</td>\n",
       "      <td>5</td>\n",
       "      <td>6</td>\n",
       "      <td>2008</td>\n",
       "    </tr>\n",
       "    <tr>\n",
       "      <th>2008-06-06</th>\n",
       "      <td>30.228001</td>\n",
       "      <td>30.242001</td>\n",
       "      <td>29.481001</td>\n",
       "      <td>29.573000</td>\n",
       "      <td>27.289856</td>\n",
       "      <td>6</td>\n",
       "      <td>6</td>\n",
       "      <td>2008</td>\n",
       "    </tr>\n",
       "  </tbody>\n",
       "</table>\n",
       "</div>"
      ],
      "text/plain": [
       "               Open_M     High_M      Low_M    Close_M  Adj Close_M  Day  \\\n",
       "Date                                                                       \n",
       "2008-06-02  30.926001  32.000000  30.257000  32.000000    29.529486    2   \n",
       "2008-06-03  31.386999  31.399000  30.235001  30.740000    28.366755    3   \n",
       "2008-06-04  30.745001  30.959999  29.454000  29.740000    27.443956    4   \n",
       "2008-06-05  29.951000  30.615999  29.544001  30.615999    28.252338    5   \n",
       "2008-06-06  30.228001  30.242001  29.481001  29.573000    27.289856    6   \n",
       "\n",
       "            Month  Year  \n",
       "Date                     \n",
       "2008-06-02      6  2008  \n",
       "2008-06-03      6  2008  \n",
       "2008-06-04      6  2008  \n",
       "2008-06-05      6  2008  \n",
       "2008-06-06      6  2008  "
      ]
     },
     "execution_count": 9,
     "metadata": {},
     "output_type": "execute_result"
    }
   ],
   "source": [
    "df.head()"
   ]
  },
  {
   "cell_type": "code",
   "execution_count": 10,
   "id": "55e37a98",
   "metadata": {
    "execution": {
     "iopub.execute_input": "2024-07-04T15:33:51.837725Z",
     "iopub.status.busy": "2024-07-04T15:33:51.837316Z",
     "iopub.status.idle": "2024-07-04T15:33:51.847243Z",
     "shell.execute_reply": "2024-07-04T15:33:51.846109Z"
    },
    "papermill": {
     "duration": 0.027947,
     "end_time": "2024-07-04T15:33:51.849749",
     "exception": false,
     "start_time": "2024-07-04T15:33:51.821802",
     "status": "completed"
    },
    "tags": []
   },
   "outputs": [
    {
     "data": {
      "text/plain": [
       "Date\n",
       "2008-06-02     32.000000\n",
       "2008-06-03     30.740000\n",
       "2008-06-04     29.740000\n",
       "2008-06-05     30.615999\n",
       "2008-06-06     29.573000\n",
       "                 ...    \n",
       "2024-06-24    456.959991\n",
       "2024-06-25    455.649994\n",
       "2024-06-26    452.380005\n",
       "2024-06-27    442.750000\n",
       "2024-06-28    441.160004\n",
       "Name: Close_M, Length: 4047, dtype: float64"
      ]
     },
     "execution_count": 10,
     "metadata": {},
     "output_type": "execute_result"
    }
   ],
   "source": [
    "df.iloc[:,3]"
   ]
  },
  {
   "cell_type": "code",
   "execution_count": 11,
   "id": "2a86a18a",
   "metadata": {
    "execution": {
     "iopub.execute_input": "2024-07-04T15:33:51.880231Z",
     "iopub.status.busy": "2024-07-04T15:33:51.879375Z",
     "iopub.status.idle": "2024-07-04T15:33:52.683248Z",
     "shell.execute_reply": "2024-07-04T15:33:52.681758Z"
    },
    "papermill": {
     "duration": 0.823952,
     "end_time": "2024-07-04T15:33:52.687521",
     "exception": false,
     "start_time": "2024-07-04T15:33:51.863569",
     "status": "completed"
    },
    "tags": []
   },
   "outputs": [],
   "source": [
    "X3,y=[],[]\n",
    "#we will be using the past 100 days data to predict the next day closing price\n",
    "#for this we need ony the day, month , year and the closing price \n",
    "for i in range(0,len(df)-100):\n",
    "#     X0.append(df.iloc[i:i+100,5]) #day\n",
    "#     X1.append(df.iloc[i:i+100,6]) #month\n",
    "#     X2.append(df.iloc[i:i+100,7]) #year\n",
    "    X3.append(df.iloc[i:i+100,3]) #past 100 days closing price\n",
    "    y.append(df.iloc[i+100,3]) #101th day prices"
   ]
  },
  {
   "cell_type": "code",
   "execution_count": 12,
   "id": "2ffda390",
   "metadata": {
    "execution": {
     "iopub.execute_input": "2024-07-04T15:33:52.720379Z",
     "iopub.status.busy": "2024-07-04T15:33:52.719955Z",
     "iopub.status.idle": "2024-07-04T15:33:52.727925Z",
     "shell.execute_reply": "2024-07-04T15:33:52.726471Z"
    },
    "papermill": {
     "duration": 0.027906,
     "end_time": "2024-07-04T15:33:52.731051",
     "exception": false,
     "start_time": "2024-07-04T15:33:52.703145",
     "status": "completed"
    },
    "tags": []
   },
   "outputs": [
    {
     "data": {
      "text/plain": [
       "(3947, 3947)"
      ]
     },
     "execution_count": 12,
     "metadata": {},
     "output_type": "execute_result"
    }
   ],
   "source": [
    "len(X3),len(y)"
   ]
  },
  {
   "cell_type": "code",
   "execution_count": 13,
   "id": "41796be3",
   "metadata": {
    "execution": {
     "iopub.execute_input": "2024-07-04T15:33:52.761291Z",
     "iopub.status.busy": "2024-07-04T15:33:52.760867Z",
     "iopub.status.idle": "2024-07-04T15:33:53.077764Z",
     "shell.execute_reply": "2024-07-04T15:33:53.076574Z"
    },
    "papermill": {
     "duration": 0.335311,
     "end_time": "2024-07-04T15:33:53.080661",
     "exception": false,
     "start_time": "2024-07-04T15:33:52.745350",
     "status": "completed"
    },
    "tags": []
   },
   "outputs": [
    {
     "data": {
      "text/plain": [
       "((3947, 100), (3947,))"
      ]
     },
     "execution_count": 13,
     "metadata": {},
     "output_type": "execute_result"
    }
   ],
   "source": [
    "#normalsing the data\n",
    "from sklearn.preprocessing import MinMaxScaler\n",
    "scaler=MinMaxScaler(feature_range=(0,1))\n",
    "#converting list to arrays\n",
    "X3,y=np.array(X3),np.array(y)\n",
    "X3.shape,y.shape"
   ]
  },
  {
   "cell_type": "code",
   "execution_count": 14,
   "id": "358a9351",
   "metadata": {
    "execution": {
     "iopub.execute_input": "2024-07-04T15:33:53.114736Z",
     "iopub.status.busy": "2024-07-04T15:33:53.113780Z",
     "iopub.status.idle": "2024-07-04T15:33:53.122028Z",
     "shell.execute_reply": "2024-07-04T15:33:53.120845Z"
    },
    "papermill": {
     "duration": 0.027834,
     "end_time": "2024-07-04T15:33:53.124543",
     "exception": false,
     "start_time": "2024-07-04T15:33:53.096709",
     "status": "completed"
    },
    "tags": []
   },
   "outputs": [
    {
     "data": {
      "text/plain": [
       "(3947, 1)"
      ]
     },
     "execution_count": 14,
     "metadata": {},
     "output_type": "execute_result"
    }
   ],
   "source": [
    "y=np.reshape(y,(len(y),1))\n",
    "y.shape"
   ]
  },
  {
   "cell_type": "code",
   "execution_count": 15,
   "id": "10fd9bec",
   "metadata": {
    "execution": {
     "iopub.execute_input": "2024-07-04T15:33:53.156654Z",
     "iopub.status.busy": "2024-07-04T15:33:53.156263Z",
     "iopub.status.idle": "2024-07-04T15:33:53.175730Z",
     "shell.execute_reply": "2024-07-04T15:33:53.174510Z"
    },
    "papermill": {
     "duration": 0.03937,
     "end_time": "2024-07-04T15:33:53.178743",
     "exception": false,
     "start_time": "2024-07-04T15:33:53.139373",
     "status": "completed"
    },
    "tags": []
   },
   "outputs": [
    {
     "data": {
      "text/plain": [
       "(3947, 100, 1)"
      ]
     },
     "execution_count": 15,
     "metadata": {},
     "output_type": "execute_result"
    }
   ],
   "source": [
    "# X0=scaler.fit_transform(X0)\n",
    "# X1=scaler.fit_transform(X1)\n",
    "# X2=scaler.fit_transform(X2)\n",
    "X3=scaler.fit_transform(X3)\n",
    "y=scaler.fit_transform(y)\n",
    "#converting input data to three dimension as it is expected by our LSTM model\n",
    "X=np.stack([X3],axis=2)\n",
    "X.shape"
   ]
  },
  {
   "cell_type": "code",
   "execution_count": 16,
   "id": "f17800cd",
   "metadata": {
    "execution": {
     "iopub.execute_input": "2024-07-04T15:33:53.209803Z",
     "iopub.status.busy": "2024-07-04T15:33:53.209402Z",
     "iopub.status.idle": "2024-07-04T15:33:53.221036Z",
     "shell.execute_reply": "2024-07-04T15:33:53.219681Z"
    },
    "papermill": {
     "duration": 0.02995,
     "end_time": "2024-07-04T15:33:53.223641",
     "exception": false,
     "start_time": "2024-07-04T15:33:53.193691",
     "status": "completed"
    },
    "tags": []
   },
   "outputs": [
    {
     "name": "stdout",
     "output_type": "stream",
     "text": [
      "[[ 33.23980086  31.90201234  30.79864605 ...  15.675       15.014\n",
      "   14.978     ]\n",
      " [ 31.90201234  30.84027541  31.72668033 ...  15.014       14.978\n",
      "   14.093     ]\n",
      " [ 30.84027541  31.7703559   30.62172607 ...  14.978       14.093\n",
      "   13.6       ]\n",
      " ...\n",
      " [488.640015   488.27899684 483.18410579 ... 454.850006   456.959991\n",
      "  455.649994  ]\n",
      " [488.27899684 484.22318622 487.14625524 ... 456.959991   455.649994\n",
      "  452.380005  ]\n",
      " [484.22318622 488.19407169 488.640015   ... 455.649994   452.380005\n",
      "  442.75      ]]\n"
     ]
    }
   ],
   "source": [
    "print(scaler.inverse_transform(X3))"
   ]
  },
  {
   "cell_type": "code",
   "execution_count": 17,
   "id": "b84f2af2",
   "metadata": {
    "execution": {
     "iopub.execute_input": "2024-07-04T15:33:53.254422Z",
     "iopub.status.busy": "2024-07-04T15:33:53.253997Z",
     "iopub.status.idle": "2024-07-04T15:33:53.263167Z",
     "shell.execute_reply": "2024-07-04T15:33:53.261854Z"
    },
    "papermill": {
     "duration": 0.027688,
     "end_time": "2024-07-04T15:33:53.265805",
     "exception": false,
     "start_time": "2024-07-04T15:33:53.238117",
     "status": "completed"
    },
    "tags": []
   },
   "outputs": [
    {
     "data": {
      "text/plain": [
       "((2000, 100, 1), (2000, 1), (1947, 100, 1), (1947, 1))"
      ]
     },
     "execution_count": 17,
     "metadata": {},
     "output_type": "execute_result"
    }
   ],
   "source": [
    "#splitting into training and testing\n",
    "X_train,y_train=X[:2000],y[:2000]\n",
    "X_test,y_test=X[2000:],y[2000:]\n",
    "X_train.shape,y_train.shape,X_test.shape,y_test.shape"
   ]
  },
  {
   "cell_type": "markdown",
   "id": "89812124",
   "metadata": {
    "papermill": {
     "duration": 0.017302,
     "end_time": "2024-07-04T15:33:53.299915",
     "exception": false,
     "start_time": "2024-07-04T15:33:53.282613",
     "status": "completed"
    },
    "tags": []
   },
   "source": [
    "Building the model"
   ]
  },
  {
   "cell_type": "code",
   "execution_count": 18,
   "id": "abc36d87",
   "metadata": {
    "execution": {
     "iopub.execute_input": "2024-07-04T15:33:53.341877Z",
     "iopub.status.busy": "2024-07-04T15:33:53.341451Z",
     "iopub.status.idle": "2024-07-04T15:34:09.552083Z",
     "shell.execute_reply": "2024-07-04T15:34:09.550681Z"
    },
    "papermill": {
     "duration": 16.237655,
     "end_time": "2024-07-04T15:34:09.555742",
     "exception": false,
     "start_time": "2024-07-04T15:33:53.318087",
     "status": "completed"
    },
    "tags": []
   },
   "outputs": [
    {
     "name": "stderr",
     "output_type": "stream",
     "text": [
      "2024-07-04 15:33:56.166589: E external/local_xla/xla/stream_executor/cuda/cuda_dnn.cc:9261] Unable to register cuDNN factory: Attempting to register factory for plugin cuDNN when one has already been registered\n",
      "2024-07-04 15:33:56.166728: E external/local_xla/xla/stream_executor/cuda/cuda_fft.cc:607] Unable to register cuFFT factory: Attempting to register factory for plugin cuFFT when one has already been registered\n",
      "2024-07-04 15:33:56.371082: E external/local_xla/xla/stream_executor/cuda/cuda_blas.cc:1515] Unable to register cuBLAS factory: Attempting to register factory for plugin cuBLAS when one has already been registered\n"
     ]
    }
   ],
   "source": [
    "import tensorflow as tf\n",
    "from tensorflow import keras\n",
    "from keras import Sequential,layers\n",
    "from keras.layers import LSTM,Dense,Dropout\n"
   ]
  },
  {
   "cell_type": "code",
   "execution_count": 19,
   "id": "fd1f7d55",
   "metadata": {
    "execution": {
     "iopub.execute_input": "2024-07-04T15:34:09.588404Z",
     "iopub.status.busy": "2024-07-04T15:34:09.587633Z",
     "iopub.status.idle": "2024-07-04T15:34:09.736638Z",
     "shell.execute_reply": "2024-07-04T15:34:09.735303Z"
    },
    "papermill": {
     "duration": 0.168497,
     "end_time": "2024-07-04T15:34:09.739665",
     "exception": false,
     "start_time": "2024-07-04T15:34:09.571168",
     "status": "completed"
    },
    "tags": []
   },
   "outputs": [
    {
     "name": "stderr",
     "output_type": "stream",
     "text": [
      "/opt/conda/lib/python3.10/site-packages/keras/src/layers/rnn/rnn.py:204: UserWarning: Do not pass an `input_shape`/`input_dim` argument to a layer. When using Sequential models, prefer using an `Input(shape)` object as the first layer in the model instead.\n",
      "  super().__init__(**kwargs)\n"
     ]
    }
   ],
   "source": [
    "model=Sequential()\n",
    "model.add(LSTM(units=128,return_sequences=False,activation=\"relu\",input_shape=(X_train.shape[1],1)))\n",
    "model.add(Dropout(0.4))\n",
    "# model.add(LSTM(units=60,activation=\"relu\",return_sequences=True))\n",
    "# model.add(Dropout(0.4))\n",
    "# model.add(LSTM(units=80,activation=\"relu\",return_sequences=True))\n",
    "# model.add(Dropout(0.3))\n",
    "# model.add(LSTM(units=120,activation=\"relu\",return_sequences=False))\n",
    "# model.add(Dropout(0.5))\n",
    "model.add(Dense(units=1))\n",
    "\n"
   ]
  },
  {
   "cell_type": "code",
   "execution_count": 20,
   "id": "4ac9461d",
   "metadata": {
    "execution": {
     "iopub.execute_input": "2024-07-04T15:34:09.776001Z",
     "iopub.status.busy": "2024-07-04T15:34:09.775497Z",
     "iopub.status.idle": "2024-07-04T15:34:09.795441Z",
     "shell.execute_reply": "2024-07-04T15:34:09.793702Z"
    },
    "papermill": {
     "duration": 0.041945,
     "end_time": "2024-07-04T15:34:09.798473",
     "exception": false,
     "start_time": "2024-07-04T15:34:09.756528",
     "status": "completed"
    },
    "tags": []
   },
   "outputs": [],
   "source": [
    "model.compile(optimizer=\"adam\",loss='mean_squared_error',metrics=['mae'])"
   ]
  },
  {
   "cell_type": "code",
   "execution_count": 21,
   "id": "2fb44f54",
   "metadata": {
    "execution": {
     "iopub.execute_input": "2024-07-04T15:34:09.831953Z",
     "iopub.status.busy": "2024-07-04T15:34:09.831533Z",
     "iopub.status.idle": "2024-07-04T15:34:09.860634Z",
     "shell.execute_reply": "2024-07-04T15:34:09.859397Z"
    },
    "papermill": {
     "duration": 0.049025,
     "end_time": "2024-07-04T15:34:09.863489",
     "exception": false,
     "start_time": "2024-07-04T15:34:09.814464",
     "status": "completed"
    },
    "tags": []
   },
   "outputs": [
    {
     "data": {
      "text/html": [
       "<pre style=\"white-space:pre;overflow-x:auto;line-height:normal;font-family:Menlo,'DejaVu Sans Mono',consolas,'Courier New',monospace\"><span style=\"font-weight: bold\">Model: \"sequential\"</span>\n",
       "</pre>\n"
      ],
      "text/plain": [
       "\u001b[1mModel: \"sequential\"\u001b[0m\n"
      ]
     },
     "metadata": {},
     "output_type": "display_data"
    },
    {
     "data": {
      "text/html": [
       "<pre style=\"white-space:pre;overflow-x:auto;line-height:normal;font-family:Menlo,'DejaVu Sans Mono',consolas,'Courier New',monospace\">┏━━━━━━━━━━━━━━━━━━━━━━━━━━━━━━━━━┳━━━━━━━━━━━━━━━━━━━━━━━━┳━━━━━━━━━━━━━━━┓\n",
       "┃<span style=\"font-weight: bold\"> Layer (type)                    </span>┃<span style=\"font-weight: bold\"> Output Shape           </span>┃<span style=\"font-weight: bold\">       Param # </span>┃\n",
       "┡━━━━━━━━━━━━━━━━━━━━━━━━━━━━━━━━━╇━━━━━━━━━━━━━━━━━━━━━━━━╇━━━━━━━━━━━━━━━┩\n",
       "│ lstm (<span style=\"color: #0087ff; text-decoration-color: #0087ff\">LSTM</span>)                     │ (<span style=\"color: #00d7ff; text-decoration-color: #00d7ff\">None</span>, <span style=\"color: #00af00; text-decoration-color: #00af00\">128</span>)            │        <span style=\"color: #00af00; text-decoration-color: #00af00\">66,560</span> │\n",
       "├─────────────────────────────────┼────────────────────────┼───────────────┤\n",
       "│ dropout (<span style=\"color: #0087ff; text-decoration-color: #0087ff\">Dropout</span>)               │ (<span style=\"color: #00d7ff; text-decoration-color: #00d7ff\">None</span>, <span style=\"color: #00af00; text-decoration-color: #00af00\">128</span>)            │             <span style=\"color: #00af00; text-decoration-color: #00af00\">0</span> │\n",
       "├─────────────────────────────────┼────────────────────────┼───────────────┤\n",
       "│ dense (<span style=\"color: #0087ff; text-decoration-color: #0087ff\">Dense</span>)                   │ (<span style=\"color: #00d7ff; text-decoration-color: #00d7ff\">None</span>, <span style=\"color: #00af00; text-decoration-color: #00af00\">1</span>)              │           <span style=\"color: #00af00; text-decoration-color: #00af00\">129</span> │\n",
       "└─────────────────────────────────┴────────────────────────┴───────────────┘\n",
       "</pre>\n"
      ],
      "text/plain": [
       "┏━━━━━━━━━━━━━━━━━━━━━━━━━━━━━━━━━┳━━━━━━━━━━━━━━━━━━━━━━━━┳━━━━━━━━━━━━━━━┓\n",
       "┃\u001b[1m \u001b[0m\u001b[1mLayer (type)                   \u001b[0m\u001b[1m \u001b[0m┃\u001b[1m \u001b[0m\u001b[1mOutput Shape          \u001b[0m\u001b[1m \u001b[0m┃\u001b[1m \u001b[0m\u001b[1m      Param #\u001b[0m\u001b[1m \u001b[0m┃\n",
       "┡━━━━━━━━━━━━━━━━━━━━━━━━━━━━━━━━━╇━━━━━━━━━━━━━━━━━━━━━━━━╇━━━━━━━━━━━━━━━┩\n",
       "│ lstm (\u001b[38;5;33mLSTM\u001b[0m)                     │ (\u001b[38;5;45mNone\u001b[0m, \u001b[38;5;34m128\u001b[0m)            │        \u001b[38;5;34m66,560\u001b[0m │\n",
       "├─────────────────────────────────┼────────────────────────┼───────────────┤\n",
       "│ dropout (\u001b[38;5;33mDropout\u001b[0m)               │ (\u001b[38;5;45mNone\u001b[0m, \u001b[38;5;34m128\u001b[0m)            │             \u001b[38;5;34m0\u001b[0m │\n",
       "├─────────────────────────────────┼────────────────────────┼───────────────┤\n",
       "│ dense (\u001b[38;5;33mDense\u001b[0m)                   │ (\u001b[38;5;45mNone\u001b[0m, \u001b[38;5;34m1\u001b[0m)              │           \u001b[38;5;34m129\u001b[0m │\n",
       "└─────────────────────────────────┴────────────────────────┴───────────────┘\n"
      ]
     },
     "metadata": {},
     "output_type": "display_data"
    },
    {
     "data": {
      "text/html": [
       "<pre style=\"white-space:pre;overflow-x:auto;line-height:normal;font-family:Menlo,'DejaVu Sans Mono',consolas,'Courier New',monospace\"><span style=\"font-weight: bold\"> Total params: </span><span style=\"color: #00af00; text-decoration-color: #00af00\">66,689</span> (260.50 KB)\n",
       "</pre>\n"
      ],
      "text/plain": [
       "\u001b[1m Total params: \u001b[0m\u001b[38;5;34m66,689\u001b[0m (260.50 KB)\n"
      ]
     },
     "metadata": {},
     "output_type": "display_data"
    },
    {
     "data": {
      "text/html": [
       "<pre style=\"white-space:pre;overflow-x:auto;line-height:normal;font-family:Menlo,'DejaVu Sans Mono',consolas,'Courier New',monospace\"><span style=\"font-weight: bold\"> Trainable params: </span><span style=\"color: #00af00; text-decoration-color: #00af00\">66,689</span> (260.50 KB)\n",
       "</pre>\n"
      ],
      "text/plain": [
       "\u001b[1m Trainable params: \u001b[0m\u001b[38;5;34m66,689\u001b[0m (260.50 KB)\n"
      ]
     },
     "metadata": {},
     "output_type": "display_data"
    },
    {
     "data": {
      "text/html": [
       "<pre style=\"white-space:pre;overflow-x:auto;line-height:normal;font-family:Menlo,'DejaVu Sans Mono',consolas,'Courier New',monospace\"><span style=\"font-weight: bold\"> Non-trainable params: </span><span style=\"color: #00af00; text-decoration-color: #00af00\">0</span> (0.00 B)\n",
       "</pre>\n"
      ],
      "text/plain": [
       "\u001b[1m Non-trainable params: \u001b[0m\u001b[38;5;34m0\u001b[0m (0.00 B)\n"
      ]
     },
     "metadata": {},
     "output_type": "display_data"
    }
   ],
   "source": [
    "model.summary()"
   ]
  },
  {
   "cell_type": "code",
   "execution_count": 22,
   "id": "8aa66506",
   "metadata": {
    "execution": {
     "iopub.execute_input": "2024-07-04T15:34:09.898982Z",
     "iopub.status.busy": "2024-07-04T15:34:09.897843Z",
     "iopub.status.idle": "2024-07-04T15:35:16.706666Z",
     "shell.execute_reply": "2024-07-04T15:35:16.705156Z"
    },
    "papermill": {
     "duration": 66.830304,
     "end_time": "2024-07-04T15:35:16.710238",
     "exception": false,
     "start_time": "2024-07-04T15:34:09.879934",
     "status": "completed"
    },
    "tags": []
   },
   "outputs": [
    {
     "name": "stdout",
     "output_type": "stream",
     "text": [
      "Epoch 1/10\n",
      "\u001b[1m63/63\u001b[0m \u001b[32m━━━━━━━━━━━━━━━━━━━━\u001b[0m\u001b[37m\u001b[0m \u001b[1m8s\u001b[0m 88ms/step - loss: 0.0029 - mae: 0.0368\n",
      "Epoch 2/10\n",
      "\u001b[1m63/63\u001b[0m \u001b[32m━━━━━━━━━━━━━━━━━━━━\u001b[0m\u001b[37m\u001b[0m \u001b[1m5s\u001b[0m 86ms/step - loss: 2.0859e-04 - mae: 0.0107\n",
      "Epoch 3/10\n",
      "\u001b[1m63/63\u001b[0m \u001b[32m━━━━━━━━━━━━━━━━━━━━\u001b[0m\u001b[37m\u001b[0m \u001b[1m6s\u001b[0m 88ms/step - loss: 1.6771e-04 - mae: 0.0092\n",
      "Epoch 4/10\n",
      "\u001b[1m63/63\u001b[0m \u001b[32m━━━━━━━━━━━━━━━━━━━━\u001b[0m\u001b[37m\u001b[0m \u001b[1m5s\u001b[0m 85ms/step - loss: 1.6223e-04 - mae: 0.0090\n",
      "Epoch 5/10\n",
      "\u001b[1m63/63\u001b[0m \u001b[32m━━━━━━━━━━━━━━━━━━━━\u001b[0m\u001b[37m\u001b[0m \u001b[1m6s\u001b[0m 91ms/step - loss: 1.4367e-04 - mae: 0.0085\n",
      "Epoch 6/10\n",
      "\u001b[1m63/63\u001b[0m \u001b[32m━━━━━━━━━━━━━━━━━━━━\u001b[0m\u001b[37m\u001b[0m \u001b[1m10s\u001b[0m 88ms/step - loss: 1.3695e-04 - mae: 0.0083\n",
      "Epoch 7/10\n",
      "\u001b[1m63/63\u001b[0m \u001b[32m━━━━━━━━━━━━━━━━━━━━\u001b[0m\u001b[37m\u001b[0m \u001b[1m6s\u001b[0m 89ms/step - loss: 1.3230e-04 - mae: 0.0084\n",
      "Epoch 8/10\n",
      "\u001b[1m63/63\u001b[0m \u001b[32m━━━━━━━━━━━━━━━━━━━━\u001b[0m\u001b[37m\u001b[0m \u001b[1m6s\u001b[0m 87ms/step - loss: 1.2159e-04 - mae: 0.0080\n",
      "Epoch 9/10\n",
      "\u001b[1m63/63\u001b[0m \u001b[32m━━━━━━━━━━━━━━━━━━━━\u001b[0m\u001b[37m\u001b[0m \u001b[1m5s\u001b[0m 85ms/step - loss: 1.2606e-04 - mae: 0.0081\n",
      "Epoch 10/10\n",
      "\u001b[1m63/63\u001b[0m \u001b[32m━━━━━━━━━━━━━━━━━━━━\u001b[0m\u001b[37m\u001b[0m \u001b[1m6s\u001b[0m 88ms/step - loss: 1.2093e-04 - mae: 0.0078\n"
     ]
    },
    {
     "data": {
      "text/plain": [
       "<keras.src.callbacks.history.History at 0x7ade506fb130>"
      ]
     },
     "execution_count": 22,
     "metadata": {},
     "output_type": "execute_result"
    }
   ],
   "source": [
    "model.fit(X_train,y_train,epochs=10)"
   ]
  },
  {
   "cell_type": "code",
   "execution_count": 23,
   "id": "02d593b8",
   "metadata": {
    "execution": {
     "iopub.execute_input": "2024-07-04T15:35:16.872509Z",
     "iopub.status.busy": "2024-07-04T15:35:16.872060Z",
     "iopub.status.idle": "2024-07-04T15:35:19.541549Z",
     "shell.execute_reply": "2024-07-04T15:35:19.540160Z"
    },
    "papermill": {
     "duration": 2.756759,
     "end_time": "2024-07-04T15:35:19.545145",
     "exception": false,
     "start_time": "2024-07-04T15:35:16.788386",
     "status": "completed"
    },
    "tags": []
   },
   "outputs": [
    {
     "name": "stdout",
     "output_type": "stream",
     "text": [
      "\u001b[1m61/61\u001b[0m \u001b[32m━━━━━━━━━━━━━━━━━━━━\u001b[0m\u001b[37m\u001b[0m \u001b[1m3s\u001b[0m 38ms/step - loss: 9.4530e-04 - mae: 0.0250\n",
      "[0.003003230784088373, 0.03823390230536461]\n"
     ]
    }
   ],
   "source": [
    "print(model.evaluate(X_test,y_test))\n"
   ]
  },
  {
   "cell_type": "code",
   "execution_count": 24,
   "id": "1f7d6019",
   "metadata": {
    "execution": {
     "iopub.execute_input": "2024-07-04T15:35:19.781078Z",
     "iopub.status.busy": "2024-07-04T15:35:19.780577Z",
     "iopub.status.idle": "2024-07-04T15:35:22.543976Z",
     "shell.execute_reply": "2024-07-04T15:35:22.542670Z"
    },
    "papermill": {
     "duration": 2.919077,
     "end_time": "2024-07-04T15:35:22.547231",
     "exception": false,
     "start_time": "2024-07-04T15:35:19.628154",
     "status": "completed"
    },
    "tags": []
   },
   "outputs": [
    {
     "name": "stdout",
     "output_type": "stream",
     "text": [
      "\u001b[1m63/63\u001b[0m \u001b[32m━━━━━━━━━━━━━━━━━━━━\u001b[0m\u001b[37m\u001b[0m \u001b[1m3s\u001b[0m 39ms/step\n"
     ]
    }
   ],
   "source": [
    "pred=model.predict(X_train)\n",
    "pred=scaler.inverse_transform(pred)"
   ]
  },
  {
   "cell_type": "code",
   "execution_count": 25,
   "id": "6924730f",
   "metadata": {
    "execution": {
     "iopub.execute_input": "2024-07-04T15:35:22.720265Z",
     "iopub.status.busy": "2024-07-04T15:35:22.719259Z",
     "iopub.status.idle": "2024-07-04T15:35:23.174672Z",
     "shell.execute_reply": "2024-07-04T15:35:23.173376Z"
    },
    "papermill": {
     "duration": 0.544688,
     "end_time": "2024-07-04T15:35:23.177355",
     "exception": false,
     "start_time": "2024-07-04T15:35:22.632667",
     "status": "completed"
    },
    "tags": []
   },
   "outputs": [
    {
     "data": {
      "text/plain": [
       "<matplotlib.legend.Legend at 0x7ade506c24a0>"
      ]
     },
     "execution_count": 25,
     "metadata": {},
     "output_type": "execute_result"
    },
    {
     "data": {
      "image/png": "[encoded data removed]",
      "text/plain": [
       "<Figure size 1200x600 with 1 Axes>"
      ]
     },
     "metadata": {},
     "output_type": "display_data"
    }
   ],
   "source": [
    "plt.figure(figsize=(12,6))\n",
    "plt.plot(pred)\n",
    "plt.plot(scaler.inverse_transform(y_train))\n",
    "plt.title(\"Actual vs Predicted Data for training set\")\n",
    "plt.legend([\"Predicted Value\",\"Actual value\"],loc=\"best\")"
   ]
  },
  {
   "cell_type": "code",
   "execution_count": 26,
   "id": "2afb55c0",
   "metadata": {
    "execution": {
     "iopub.execute_input": "2024-07-04T15:35:23.356069Z",
     "iopub.status.busy": "2024-07-04T15:35:23.355189Z",
     "iopub.status.idle": "2024-07-04T15:35:25.806453Z",
     "shell.execute_reply": "2024-07-04T15:35:25.804937Z"
    },
    "papermill": {
     "duration": 2.546373,
     "end_time": "2024-07-04T15:35:25.809513",
     "exception": false,
     "start_time": "2024-07-04T15:35:23.263140",
     "status": "completed"
    },
    "tags": []
   },
   "outputs": [
    {
     "name": "stdout",
     "output_type": "stream",
     "text": [
      "\u001b[1m61/61\u001b[0m \u001b[32m━━━━━━━━━━━━━━━━━━━━\u001b[0m\u001b[37m\u001b[0m \u001b[1m2s\u001b[0m 38ms/step\n"
     ]
    }
   ],
   "source": [
    "predictions=model.predict(X_test)\n",
    "predictions=scaler.inverse_transform(predictions)"
   ]
  },
  {
   "cell_type": "code",
   "execution_count": 27,
   "id": "67b447fb",
   "metadata": {
    "execution": {
     "iopub.execute_input": "2024-07-04T15:35:25.998981Z",
     "iopub.status.busy": "2024-07-04T15:35:25.998531Z",
     "iopub.status.idle": "2024-07-04T15:35:26.396822Z",
     "shell.execute_reply": "2024-07-04T15:35:26.395223Z"
    },
    "papermill": {
     "duration": 0.493674,
     "end_time": "2024-07-04T15:35:26.400028",
     "exception": false,
     "start_time": "2024-07-04T15:35:25.906354",
     "status": "completed"
    },
    "tags": []
   },
   "outputs": [
    {
     "data": {
      "text/plain": [
       "<matplotlib.legend.Legend at 0x7ade5383d240>"
      ]
     },
     "execution_count": 27,
     "metadata": {},
     "output_type": "execute_result"
    },
    {
     "data": {
      "image/png": "[encoded data removed]",
      "text/plain": [
       "<Figure size 1200x600 with 1 Axes>"
      ]
     },
     "metadata": {},
     "output_type": "display_data"
    }
   ],
   "source": [
    "plt.figure(figsize=(12,6))\n",
    "plt.plot(predictions)\n",
    "plt.plot(scaler.inverse_transform(y_test))\n",
    "plt.title(\"Actual vs Predicted value for testing set\")\n",
    "plt.legend([\"Predcited\",\"Actual\"],loc=\"best\")"
   ]
  },
  {
   "cell_type": "code",
   "execution_count": 28,
   "id": "9a80f0d3",
   "metadata": {
    "execution": {
     "iopub.execute_input": "2024-07-04T15:35:26.586172Z",
     "iopub.status.busy": "2024-07-04T15:35:26.585726Z",
     "iopub.status.idle": "2024-07-04T15:35:26.609269Z",
     "shell.execute_reply": "2024-07-04T15:35:26.607804Z"
    },
    "papermill": {
     "duration": 0.121583,
     "end_time": "2024-07-04T15:35:26.612270",
     "exception": false,
     "start_time": "2024-07-04T15:35:26.490687",
     "status": "completed"
    },
    "tags": []
   },
   "outputs": [
    {
     "data": {
      "text/html": [
       "<div>\n",
       "<style scoped>\n",
       "    .dataframe tbody tr th:only-of-type {\n",
       "        vertical-align: middle;\n",
       "    }\n",
       "\n",
       "    .dataframe tbody tr th {\n",
       "        vertical-align: top;\n",
       "    }\n",
       "\n",
       "    .dataframe thead th {\n",
       "        text-align: right;\n",
       "    }\n",
       "</style>\n",
       "<table border=\"1\" class=\"dataframe\">\n",
       "  <thead>\n",
       "    <tr style=\"text-align: right;\">\n",
       "      <th></th>\n",
       "      <th>Close_M</th>\n",
       "      <th>Actual y_test</th>\n",
       "      <th>Predicted y_test</th>\n",
       "    </tr>\n",
       "    <tr>\n",
       "      <th>Date</th>\n",
       "      <th></th>\n",
       "      <th></th>\n",
       "      <th></th>\n",
       "    </tr>\n",
       "  </thead>\n",
       "  <tbody>\n",
       "    <tr>\n",
       "      <th>2008-06-02</th>\n",
       "      <td>32.000000</td>\n",
       "      <td>0.000000</td>\n",
       "      <td>0.000000</td>\n",
       "    </tr>\n",
       "    <tr>\n",
       "      <th>2008-06-03</th>\n",
       "      <td>30.740000</td>\n",
       "      <td>0.000000</td>\n",
       "      <td>0.000000</td>\n",
       "    </tr>\n",
       "    <tr>\n",
       "      <th>2008-06-04</th>\n",
       "      <td>29.740000</td>\n",
       "      <td>0.000000</td>\n",
       "      <td>0.000000</td>\n",
       "    </tr>\n",
       "    <tr>\n",
       "      <th>2008-06-05</th>\n",
       "      <td>30.615999</td>\n",
       "      <td>0.000000</td>\n",
       "      <td>0.000000</td>\n",
       "    </tr>\n",
       "    <tr>\n",
       "      <th>2008-06-06</th>\n",
       "      <td>29.573000</td>\n",
       "      <td>0.000000</td>\n",
       "      <td>0.000000</td>\n",
       "    </tr>\n",
       "    <tr>\n",
       "      <th>...</th>\n",
       "      <td>...</td>\n",
       "      <td>...</td>\n",
       "      <td>...</td>\n",
       "    </tr>\n",
       "    <tr>\n",
       "      <th>2024-06-24</th>\n",
       "      <td>0.000000</td>\n",
       "      <td>456.959991</td>\n",
       "      <td>515.327393</td>\n",
       "    </tr>\n",
       "    <tr>\n",
       "      <th>2024-06-25</th>\n",
       "      <td>0.000000</td>\n",
       "      <td>455.649994</td>\n",
       "      <td>516.558655</td>\n",
       "    </tr>\n",
       "    <tr>\n",
       "      <th>2024-06-26</th>\n",
       "      <td>0.000000</td>\n",
       "      <td>452.380005</td>\n",
       "      <td>517.619019</td>\n",
       "    </tr>\n",
       "    <tr>\n",
       "      <th>2024-06-27</th>\n",
       "      <td>0.000000</td>\n",
       "      <td>442.750000</td>\n",
       "      <td>518.214661</td>\n",
       "    </tr>\n",
       "    <tr>\n",
       "      <th>2024-06-28</th>\n",
       "      <td>0.000000</td>\n",
       "      <td>441.160004</td>\n",
       "      <td>517.388184</td>\n",
       "    </tr>\n",
       "  </tbody>\n",
       "</table>\n",
       "<p>4047 rows × 3 columns</p>\n",
       "</div>"
      ],
      "text/plain": [
       "              Close_M  Actual y_test  Predicted y_test\n",
       "Date                                                  \n",
       "2008-06-02  32.000000       0.000000          0.000000\n",
       "2008-06-03  30.740000       0.000000          0.000000\n",
       "2008-06-04  29.740000       0.000000          0.000000\n",
       "2008-06-05  30.615999       0.000000          0.000000\n",
       "2008-06-06  29.573000       0.000000          0.000000\n",
       "...               ...            ...               ...\n",
       "2024-06-24   0.000000     456.959991        515.327393\n",
       "2024-06-25   0.000000     455.649994        516.558655\n",
       "2024-06-26   0.000000     452.380005        517.619019\n",
       "2024-06-27   0.000000     442.750000        518.214661\n",
       "2024-06-28   0.000000     441.160004        517.388184\n",
       "\n",
       "[4047 rows x 3 columns]"
      ]
     },
     "execution_count": 28,
     "metadata": {},
     "output_type": "execute_result"
    }
   ],
   "source": [
    "#plotting the complete data\n",
    "inv_ytest=scaler.inverse_transform(y_test)\n",
    "plotting_data=pd.DataFrame({\n",
    "    \"Actual y_test\":inv_ytest.reshape(-1),\n",
    "    \"Predicted y_test\":predictions.reshape(-1)\n",
    "},\n",
    "    index=df.index[2100:]\n",
    ")\n",
    "whole_data=pd.concat([df[\"Close_M\"][:2100],plotting_data],axis=0)\n",
    "whole_data.fillna(0)"
   ]
  },
  {
   "cell_type": "code",
   "execution_count": 29,
   "id": "25bcc677",
   "metadata": {
    "execution": {
     "iopub.execute_input": "2024-07-04T15:35:26.799830Z",
     "iopub.status.busy": "2024-07-04T15:35:26.798728Z",
     "iopub.status.idle": "2024-07-04T15:35:27.339957Z",
     "shell.execute_reply": "2024-07-04T15:35:27.338586Z"
    },
    "papermill": {
     "duration": 0.638727,
     "end_time": "2024-07-04T15:35:27.342947",
     "exception": false,
     "start_time": "2024-07-04T15:35:26.704220",
     "status": "completed"
    },
    "tags": []
   },
   "outputs": [
    {
     "data": {
      "image/png": "[encoded data removed]",
      "text/plain": [
       "<Figure size 1200x600 with 1 Axes>"
      ]
     },
     "metadata": {},
     "output_type": "display_data"
    }
   ],
   "source": [
    "whole_data.plot(lw=1,figsize=(12,6))\n",
    "plt.title(\"Complete Closing price data\")\n",
    "plt.legend([\"Closing Price\",\"Actual Close Price\",\"Predicted Close Price\"],loc=\"best\")\n",
    "plt.show()"
   ]
  },
  {
   "cell_type": "code",
   "execution_count": null,
   "id": "641af29a",
   "metadata": {
    "papermill": {
     "duration": 0.091853,
     "end_time": "2024-07-04T15:35:27.530604",
     "exception": false,
     "start_time": "2024-07-04T15:35:27.438751",
     "status": "completed"
    },
    "tags": []
   },
   "outputs": [],
   "source": []
  }
 ],
 "metadata": {
  "kaggle": {
   "accelerator": "none",
   "dataSources": [
    {
     "datasetId": 5309945,
     "sourceId": 8825780,
     "sourceType": "datasetVersion"
    }
   ],
   "dockerImageVersionId": 30732,
   "isGpuEnabled": false,
   "isInternetEnabled": true,
   "language": "python",
   "sourceType": "notebook"
  },
  "kernelspec": {
   "display_name": "Python 3",
   "language": "python",
   "name": "python3"
  },
  "language_info": {
   "codemirror_mode": {
    "name": "ipython",
    "version": 3
   },
   "file_extension": ".py",
   "mimetype": "text/x-python",
   "name": "python",
   "nbconvert_exporter": "python",
   "pygments_lexer": "ipython3",
   "version": "3.10.13"
  },
  "papermill": {
   "default_parameters": {},
   "duration": 105.09673,
   "end_time": "2024-07-04T15:35:29.454272",
   "environment_variables": {},
   "exception": null,
   "input_path": "__notebook__.ipynb",
   "output_path": "__notebook__.ipynb",
   "parameters": {},
   "start_time": "2024-07-04T15:33:44.357542",
   "version": "2.5.0"
  }
 },
 "nbformat": 4,
 "nbformat_minor": 5
}
